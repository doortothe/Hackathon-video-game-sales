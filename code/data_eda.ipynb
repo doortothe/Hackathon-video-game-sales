{
 "cells": [
  {
   "cell_type": "markdown",
   "metadata": {},
   "source": [
    "# Data EDA"
   ]
  },
  {
   "cell_type": "code",
   "execution_count": 17,
   "metadata": {},
   "outputs": [],
   "source": [
    "import pandas as pd\n",
    "\n",
    "# Graphical imports\n",
    "import matplotlib.pyplot as plt\n",
    "import matplotlib.ticker as pf\n",
    "import seaborn as sns"
   ]
  },
  {
   "cell_type": "markdown",
   "metadata": {},
   "source": [
    "## Import cleaned data"
   ]
  },
  {
   "cell_type": "code",
   "execution_count": 29,
   "metadata": {},
   "outputs": [],
   "source": [
    "# Source 1 for parse_dates\n",
    "df = pd.read_csv('../data/cleaned_video_game_sales.csv', parse_dates=['release_year'])"
   ]
  },
  {
   "cell_type": "markdown",
   "metadata": {},
   "source": [
    "## Perform EDA on all columns"
   ]
  },
  {
   "cell_type": "code",
   "execution_count": 30,
   "metadata": {},
   "outputs": [
    {
     "data": {
      "text/html": [
       "<div>\n",
       "<style scoped>\n",
       "    .dataframe tbody tr th:only-of-type {\n",
       "        vertical-align: middle;\n",
       "    }\n",
       "\n",
       "    .dataframe tbody tr th {\n",
       "        vertical-align: top;\n",
       "    }\n",
       "\n",
       "    .dataframe thead th {\n",
       "        text-align: right;\n",
       "    }\n",
       "</style>\n",
       "<table border=\"1\" class=\"dataframe\">\n",
       "  <thead>\n",
       "    <tr style=\"text-align: right;\">\n",
       "      <th></th>\n",
       "      <th>name</th>\n",
       "      <th>platform</th>\n",
       "      <th>release_year</th>\n",
       "      <th>genre</th>\n",
       "      <th>publisher</th>\n",
       "      <th>na_sales</th>\n",
       "      <th>eu_sales</th>\n",
       "      <th>jp_sales</th>\n",
       "      <th>other_sales</th>\n",
       "      <th>global_sales</th>\n",
       "      <th>critic_score</th>\n",
       "      <th>critic_count</th>\n",
       "      <th>user_score</th>\n",
       "      <th>user_count</th>\n",
       "      <th>developer</th>\n",
       "      <th>rating</th>\n",
       "    </tr>\n",
       "  </thead>\n",
       "  <tbody>\n",
       "    <tr>\n",
       "      <th>0</th>\n",
       "      <td>Wii Sports</td>\n",
       "      <td>Wii</td>\n",
       "      <td>2006-01-01</td>\n",
       "      <td>Sports</td>\n",
       "      <td>Nintendo</td>\n",
       "      <td>41.36</td>\n",
       "      <td>28.96</td>\n",
       "      <td>3.77</td>\n",
       "      <td>8.45</td>\n",
       "      <td>82.53</td>\n",
       "      <td>76.0</td>\n",
       "      <td>51.0</td>\n",
       "      <td>8.0</td>\n",
       "      <td>322.0</td>\n",
       "      <td>Nintendo</td>\n",
       "      <td>E</td>\n",
       "    </tr>\n",
       "    <tr>\n",
       "      <th>1</th>\n",
       "      <td>Super Mario Bros.</td>\n",
       "      <td>NES</td>\n",
       "      <td>1985-01-01</td>\n",
       "      <td>Platform</td>\n",
       "      <td>Nintendo</td>\n",
       "      <td>29.08</td>\n",
       "      <td>3.58</td>\n",
       "      <td>6.81</td>\n",
       "      <td>0.77</td>\n",
       "      <td>40.24</td>\n",
       "      <td>NaN</td>\n",
       "      <td>NaN</td>\n",
       "      <td>NaN</td>\n",
       "      <td>NaN</td>\n",
       "      <td>NaN</td>\n",
       "      <td>NaN</td>\n",
       "    </tr>\n",
       "    <tr>\n",
       "      <th>2</th>\n",
       "      <td>Mario Kart Wii</td>\n",
       "      <td>Wii</td>\n",
       "      <td>2008-01-01</td>\n",
       "      <td>Racing</td>\n",
       "      <td>Nintendo</td>\n",
       "      <td>15.68</td>\n",
       "      <td>12.76</td>\n",
       "      <td>3.79</td>\n",
       "      <td>3.29</td>\n",
       "      <td>35.52</td>\n",
       "      <td>82.0</td>\n",
       "      <td>73.0</td>\n",
       "      <td>8.3</td>\n",
       "      <td>709.0</td>\n",
       "      <td>Nintendo</td>\n",
       "      <td>E</td>\n",
       "    </tr>\n",
       "    <tr>\n",
       "      <th>3</th>\n",
       "      <td>Wii Sports Resort</td>\n",
       "      <td>Wii</td>\n",
       "      <td>2009-01-01</td>\n",
       "      <td>Sports</td>\n",
       "      <td>Nintendo</td>\n",
       "      <td>15.61</td>\n",
       "      <td>10.93</td>\n",
       "      <td>3.28</td>\n",
       "      <td>2.95</td>\n",
       "      <td>32.77</td>\n",
       "      <td>80.0</td>\n",
       "      <td>73.0</td>\n",
       "      <td>8.0</td>\n",
       "      <td>192.0</td>\n",
       "      <td>Nintendo</td>\n",
       "      <td>E</td>\n",
       "    </tr>\n",
       "    <tr>\n",
       "      <th>4</th>\n",
       "      <td>Pokemon Red/Pokemon Blue</td>\n",
       "      <td>GB</td>\n",
       "      <td>1996-01-01</td>\n",
       "      <td>Role-Playing</td>\n",
       "      <td>Nintendo</td>\n",
       "      <td>11.27</td>\n",
       "      <td>8.89</td>\n",
       "      <td>10.22</td>\n",
       "      <td>1.00</td>\n",
       "      <td>31.37</td>\n",
       "      <td>NaN</td>\n",
       "      <td>NaN</td>\n",
       "      <td>NaN</td>\n",
       "      <td>NaN</td>\n",
       "      <td>NaN</td>\n",
       "      <td>NaN</td>\n",
       "    </tr>\n",
       "  </tbody>\n",
       "</table>\n",
       "</div>"
      ],
      "text/plain": [
       "                       name platform release_year         genre publisher  \\\n",
       "0                Wii Sports      Wii   2006-01-01        Sports  Nintendo   \n",
       "1         Super Mario Bros.      NES   1985-01-01      Platform  Nintendo   \n",
       "2            Mario Kart Wii      Wii   2008-01-01        Racing  Nintendo   \n",
       "3         Wii Sports Resort      Wii   2009-01-01        Sports  Nintendo   \n",
       "4  Pokemon Red/Pokemon Blue       GB   1996-01-01  Role-Playing  Nintendo   \n",
       "\n",
       "   na_sales  eu_sales  jp_sales  other_sales  global_sales  critic_score  \\\n",
       "0     41.36     28.96      3.77         8.45         82.53          76.0   \n",
       "1     29.08      3.58      6.81         0.77         40.24           NaN   \n",
       "2     15.68     12.76      3.79         3.29         35.52          82.0   \n",
       "3     15.61     10.93      3.28         2.95         32.77          80.0   \n",
       "4     11.27      8.89     10.22         1.00         31.37           NaN   \n",
       "\n",
       "   critic_count  user_score  user_count developer rating  \n",
       "0          51.0         8.0       322.0  Nintendo      E  \n",
       "1           NaN         NaN         NaN       NaN    NaN  \n",
       "2          73.0         8.3       709.0  Nintendo      E  \n",
       "3          73.0         8.0       192.0  Nintendo      E  \n",
       "4           NaN         NaN         NaN       NaN    NaN  "
      ]
     },
     "execution_count": 30,
     "metadata": {},
     "output_type": "execute_result"
    }
   ],
   "source": [
    "df.head()"
   ]
  },
  {
   "cell_type": "code",
   "execution_count": 31,
   "metadata": {},
   "outputs": [
    {
     "name": "stdout",
     "output_type": "stream",
     "text": [
      "<class 'pandas.core.frame.DataFrame'>\n",
      "RangeIndex: 16719 entries, 0 to 16718\n",
      "Data columns (total 16 columns):\n",
      " #   Column        Non-Null Count  Dtype         \n",
      "---  ------        --------------  -----         \n",
      " 0   name          16717 non-null  object        \n",
      " 1   platform      16719 non-null  object        \n",
      " 2   release_year  16450 non-null  datetime64[ns]\n",
      " 3   genre         16717 non-null  object        \n",
      " 4   publisher     16665 non-null  object        \n",
      " 5   na_sales      16719 non-null  float64       \n",
      " 6   eu_sales      16719 non-null  float64       \n",
      " 7   jp_sales      16719 non-null  float64       \n",
      " 8   other_sales   16719 non-null  float64       \n",
      " 9   global_sales  16719 non-null  float64       \n",
      " 10  critic_score  8137 non-null   float64       \n",
      " 11  critic_count  8137 non-null   float64       \n",
      " 12  user_score    7590 non-null   float64       \n",
      " 13  user_count    7590 non-null   float64       \n",
      " 14  developer     10096 non-null  object        \n",
      " 15  rating        9950 non-null   object        \n",
      "dtypes: datetime64[ns](1), float64(9), object(6)\n",
      "memory usage: 2.0+ MB\n"
     ]
    }
   ],
   "source": [
    "df.info()"
   ]
  },
  {
   "cell_type": "markdown",
   "metadata": {},
   "source": [
    "Huh. Pandas turned the ints into floats... that sucks."
   ]
  },
  {
   "cell_type": "markdown",
   "metadata": {
    "jupyter": {
     "source_hidden": true
    }
   },
   "source": [
    "### Genre"
   ]
  },
  {
   "cell_type": "code",
   "execution_count": 19,
   "metadata": {},
   "outputs": [
    {
     "data": {
      "image/png": "[encoded data removed]",
      "text/plain": [
       "<Figure size 864x360 with 1 Axes>"
      ]
     },
     "metadata": {
      "needs_background": "light"
     },
     "output_type": "display_data"
    }
   ],
   "source": [
    "# Plot out the distribution of genres\n",
    "plt.figure(figsize = (12, 5))\n",
    "\n",
    "# temp variable to hold the data I want to graph\n",
    "t = df.genre.value_counts(normalize=True)\n",
    "\n",
    "plt.barh(t.index[::-1], t.values[::-1])\n",
    "\n",
    "plt.gca().xaxis.set_major_formatter(pf.PercentFormatter(1, 0));"
   ]
  },
  {
   "cell_type": "markdown",
   "metadata": {
    "jupyter": {
     "source_hidden": true
    }
   },
   "source": [
    "> Observations:\n",
    "\n",
    "For someone as detail-oriented as myself, I find the current 'genre' field to be unhelpfully vague. For example, many games fall under both 'action' and 'adventure' genres, such as the Uncharted series. I suppose that feeling is because I'm spoiled by the 'subcategory' field from the kickstarter dataset I looked at for initiation. Where each category had its own list of subcategories. C'est la vie. I can understand why these sites would oversimplify category, since they're audience is presumably non-technical. Doesn't mean I agree with it, but that's a discussion for another day.\n",
    "\n",
    "It would be nice to know what genres go under the miscellaneous umbrella."
   ]
  },
  {
   "cell_type": "code",
   "execution_count": 37,
   "metadata": {
    "collapsed": true,
    "jupyter": {
     "outputs_hidden": true,
     "source_hidden": true
    }
   },
   "outputs": [
    {
     "data": {
      "text/plain": [
       "1980-01-01       9\n",
       "1981-01-01      46\n",
       "1982-01-01      36\n",
       "1983-01-01      17\n",
       "1984-01-01      14\n",
       "1985-01-01      14\n",
       "1986-01-01      21\n",
       "1987-01-01      16\n",
       "1988-01-01      15\n",
       "1989-01-01      17\n",
       "1990-01-01      16\n",
       "1991-01-01      41\n",
       "1992-01-01      43\n",
       "1993-01-01      62\n",
       "1994-01-01     121\n",
       "1995-01-01     219\n",
       "1996-01-01     263\n",
       "1997-01-01     289\n",
       "1998-01-01     379\n",
       "1999-01-01     338\n",
       "2000-01-01     350\n",
       "2001-01-01     482\n",
       "2002-01-01     829\n",
       "2003-01-01     775\n",
       "2004-01-01     762\n",
       "2005-01-01     939\n",
       "2006-01-01    1006\n",
       "2007-01-01    1197\n",
       "2008-01-01    1427\n",
       "2009-01-01    1426\n",
       "2010-01-01    1255\n",
       "2011-01-01    1136\n",
       "2012-01-01     653\n",
       "2013-01-01     544\n",
       "2014-01-01     581\n",
       "2015-01-01     606\n",
       "2016-01-01     502\n",
       "2017-01-01       3\n",
       "2020-01-01       1\n",
       "Name: release_year, dtype: int64"
      ]
     },
     "execution_count": 37,
     "metadata": {},
     "output_type": "execute_result"
    }
   ],
   "source": [
    "df.release_year.value_counts().sort_index()"
   ]
  },
  {
   "cell_type": "markdown",
   "metadata": {},
   "source": [
    "## Check for outliers"
   ]
  },
  {
   "cell_type": "code",
   "execution_count": 38,
   "metadata": {},
   "outputs": [
    {
     "data": {
      "text/html": [
       "<div>\n",
       "<style scoped>\n",
       "    .dataframe tbody tr th:only-of-type {\n",
       "        vertical-align: middle;\n",
       "    }\n",
       "\n",
       "    .dataframe tbody tr th {\n",
       "        vertical-align: top;\n",
       "    }\n",
       "\n",
       "    .dataframe thead th {\n",
       "        text-align: right;\n",
       "    }\n",
       "</style>\n",
       "<table border=\"1\" class=\"dataframe\">\n",
       "  <thead>\n",
       "    <tr style=\"text-align: right;\">\n",
       "      <th></th>\n",
       "      <th>name</th>\n",
       "      <th>platform</th>\n",
       "      <th>release_year</th>\n",
       "      <th>genre</th>\n",
       "      <th>publisher</th>\n",
       "      <th>na_sales</th>\n",
       "      <th>eu_sales</th>\n",
       "      <th>jp_sales</th>\n",
       "      <th>other_sales</th>\n",
       "      <th>global_sales</th>\n",
       "      <th>critic_score</th>\n",
       "      <th>critic_count</th>\n",
       "      <th>user_score</th>\n",
       "      <th>user_count</th>\n",
       "      <th>developer</th>\n",
       "      <th>rating</th>\n",
       "    </tr>\n",
       "  </thead>\n",
       "  <tbody>\n",
       "    <tr>\n",
       "      <th>0</th>\n",
       "      <td>Wii Sports</td>\n",
       "      <td>Wii</td>\n",
       "      <td>2006-01-01</td>\n",
       "      <td>Sports</td>\n",
       "      <td>Nintendo</td>\n",
       "      <td>41.36</td>\n",
       "      <td>28.96</td>\n",
       "      <td>3.77</td>\n",
       "      <td>8.45</td>\n",
       "      <td>82.53</td>\n",
       "      <td>76.0</td>\n",
       "      <td>51.0</td>\n",
       "      <td>8.0</td>\n",
       "      <td>322.0</td>\n",
       "      <td>Nintendo</td>\n",
       "      <td>E</td>\n",
       "    </tr>\n",
       "  </tbody>\n",
       "</table>\n",
       "</div>"
      ],
      "text/plain": [
       "         name platform release_year   genre publisher  na_sales  eu_sales  \\\n",
       "0  Wii Sports      Wii   2006-01-01  Sports  Nintendo     41.36     28.96   \n",
       "\n",
       "   jp_sales  other_sales  global_sales  critic_score  critic_count  \\\n",
       "0      3.77         8.45         82.53          76.0          51.0   \n",
       "\n",
       "   user_score  user_count developer rating  \n",
       "0         8.0       322.0  Nintendo      E  "
      ]
     },
     "execution_count": 38,
     "metadata": {},
     "output_type": "execute_result"
    }
   ],
   "source": [
    "df.head(1)"
   ]
  },
  {
   "cell_type": "code",
   "execution_count": 43,
   "metadata": {},
   "outputs": [
    {
     "data": {
      "text/plain": [
       "(array([511.,  27.,  11.,   5.,   2.,   1.,   3.,   5.,   3.,   0.,   0.,\n",
       "          0.,   1.,   1.,   1.,   1.,   0.,   0.,   0.,   0.,   0.,   0.,\n",
       "          0.,   1.,   0.,   1.,   2.,   0.,   0.,   0.,   1.,   0.,   0.,\n",
       "          0.,   2.,   0.,   1.,   0.,   0.,   0.,   0.,   0.,   0.,   0.,\n",
       "          0.,   0.,   0.,   0.,   0.,   1.]),\n",
       " array([1.0000e+00, 2.8100e+01, 5.5200e+01, 8.2300e+01, 1.0940e+02,\n",
       "        1.3650e+02, 1.6360e+02, 1.9070e+02, 2.1780e+02, 2.4490e+02,\n",
       "        2.7200e+02, 2.9910e+02, 3.2620e+02, 3.5330e+02, 3.8040e+02,\n",
       "        4.0750e+02, 4.3460e+02, 4.6170e+02, 4.8880e+02, 5.1590e+02,\n",
       "        5.4300e+02, 5.7010e+02, 5.9720e+02, 6.2430e+02, 6.5140e+02,\n",
       "        6.7850e+02, 7.0560e+02, 7.3270e+02, 7.5980e+02, 7.8690e+02,\n",
       "        8.1400e+02, 8.4110e+02, 8.6820e+02, 8.9530e+02, 9.2240e+02,\n",
       "        9.4950e+02, 9.7660e+02, 1.0037e+03, 1.0308e+03, 1.0579e+03,\n",
       "        1.0850e+03, 1.1121e+03, 1.1392e+03, 1.1663e+03, 1.1934e+03,\n",
       "        1.2205e+03, 1.2476e+03, 1.2747e+03, 1.3018e+03, 1.3289e+03,\n",
       "        1.3560e+03]),\n",
       " <a list of 50 Patch objects>)"
      ]
     },
     "execution_count": 43,
     "metadata": {},
     "output_type": "execute_result"
    },
    {
     "data": {
      "image/png": "[encoded data removed]",
      "text/plain": [
       "<Figure size 432x288 with 1 Axes>"
      ]
     },
     "metadata": {
      "needs_background": "light"
     },
     "output_type": "display_data"
    }
   ],
   "source": [
    "plt.hist(df.publisher.value_counts(), bins=50)"
   ]
  },
  {
   "cell_type": "code",
   "execution_count": 48,
   "metadata": {},
   "outputs": [
    {
     "data": {
      "text/plain": [
       "Electronic Arts                 1356\n",
       "Activision                       985\n",
       "Namco Bandai Games               939\n",
       "Ubisoft                          933\n",
       "Konami Digital Entertainment     834\n",
       "                                ... \n",
       "Mirai Shounen                      1\n",
       "Merscom LLC                        1\n",
       "BushiRoad                          1\n",
       "Havas Interactive                  1\n",
       "Origin Systems                     1\n",
       "Name: publisher, Length: 581, dtype: int64"
      ]
     },
     "execution_count": 48,
     "metadata": {},
     "output_type": "execute_result"
    }
   ],
   "source": [
    "df.publisher.value_counts().filter()"
   ]
  },
  {
   "cell_type": "markdown",
   "metadata": {},
   "source": [
    "## Sources\n",
    "1. https://stackoverflow.com/questions/33365055/attributeerror-can-only-use-dt-accessor-with-datetimelike-values"
   ]
  }
 ],
 "metadata": {
  "kernelspec": {
   "display_name": "Python 3",
   "language": "python",
   "name": "python3"
  },
  "language_info": {
   "codemirror_mode": {
    "name": "ipython",
    "version": 3
   },
   "file_extension": ".py",
   "mimetype": "text/x-python",
   "name": "python",
   "nbconvert_exporter": "python",
   "pygments_lexer": "ipython3",
   "version": "3.8.3"
  }
 },
 "nbformat": 4,
 "nbformat_minor": 4
}
