{
 "cells": [
  {
   "cell_type": "markdown",
   "metadata": {},
   "source": [
    "# Data Cleaning"
   ]
  },
  {
   "cell_type": "code",
   "execution_count": 1,
   "metadata": {},
   "outputs": [],
   "source": [
    "import pandas as pd"
   ]
  },
  {
   "cell_type": "code",
   "execution_count": 2,
   "metadata": {},
   "outputs": [],
   "source": [
    "#import raw dataset\n",
    "df = pd.read_csv('./data/Video_Games_Sales_as_at_22_Dec_2016.csv')"
   ]
  },
  {
   "cell_type": "markdown",
   "metadata": {},
   "source": [
    "## Initial Data Brushup"
   ]
  },
  {
   "cell_type": "code",
   "execution_count": 3,
   "metadata": {},
   "outputs": [
    {
     "name": "stdout",
     "output_type": "stream",
     "text": [
      "<class 'pandas.core.frame.DataFrame'>\n",
      "RangeIndex: 16719 entries, 0 to 16718\n",
      "Data columns (total 16 columns):\n",
      " #   Column        Non-Null Count  Dtype  \n",
      "---  ------        --------------  -----  \n",
      " 0   name          16717 non-null  object \n",
      " 1   platform      16719 non-null  object \n",
      " 2   release_year  16450 non-null  float64\n",
      " 3   genre         16717 non-null  object \n",
      " 4   publisher     16665 non-null  object \n",
      " 5   na_sales      16719 non-null  float64\n",
      " 6   eu_sales      16719 non-null  float64\n",
      " 7   jp_sales      16719 non-null  float64\n",
      " 8   other_sales   16719 non-null  float64\n",
      " 9   global_sales  16719 non-null  float64\n",
      " 10  critic_score  8137 non-null   float64\n",
      " 11  critic_count  8137 non-null   float64\n",
      " 12  user_score    10015 non-null  object \n",
      " 13  user_count    7590 non-null   float64\n",
      " 14  developer     10096 non-null  object \n",
      " 15  rating        9950 non-null   object \n",
      "dtypes: float64(9), object(7)\n",
      "memory usage: 2.0+ MB\n"
     ]
    }
   ],
   "source": [
    "# Clean up column names\n",
    "df.columns = df.columns.str.lower()\n",
    "df.rename(columns={'year_of_release': 'release_year'}, inplace=True)\n",
    "\n",
    "df.info()"
   ]
  },
  {
   "cell_type": "code",
   "execution_count": 4,
   "metadata": {},
   "outputs": [
    {
     "name": "stdout",
     "output_type": "stream",
     "text": [
      "<class 'pandas.core.frame.DataFrame'>\n",
      "RangeIndex: 16719 entries, 0 to 16718\n",
      "Data columns (total 16 columns):\n",
      " #   Column        Non-Null Count  Dtype  \n",
      "---  ------        --------------  -----  \n",
      " 0   name          16717 non-null  object \n",
      " 1   platform      16719 non-null  object \n",
      " 2   release_year  16450 non-null  float64\n",
      " 3   genre         16717 non-null  object \n",
      " 4   publisher     16665 non-null  object \n",
      " 5   na_sales      16719 non-null  float64\n",
      " 6   eu_sales      16719 non-null  float64\n",
      " 7   jp_sales      16719 non-null  float64\n",
      " 8   other_sales   16719 non-null  float64\n",
      " 9   global_sales  16719 non-null  float64\n",
      " 10  critic_score  8137 non-null   float64\n",
      " 11  critic_count  8137 non-null   float64\n",
      " 12  user_score    10015 non-null  object \n",
      " 13  user_count    7590 non-null   float64\n",
      " 14  developer     10096 non-null  object \n",
      " 15  rating        9950 non-null   object \n",
      "dtypes: float64(9), object(7)\n",
      "memory usage: 2.0+ MB\n"
     ]
    }
   ],
   "source": [
    "df.info()"
   ]
  },
  {
   "cell_type": "code",
   "execution_count": 5,
   "metadata": {},
   "outputs": [
    {
     "data": {
      "text/html": [
       "<div>\n",
       "<style scoped>\n",
       "    .dataframe tbody tr th:only-of-type {\n",
       "        vertical-align: middle;\n",
       "    }\n",
       "\n",
       "    .dataframe tbody tr th {\n",
       "        vertical-align: top;\n",
       "    }\n",
       "\n",
       "    .dataframe thead th {\n",
       "        text-align: right;\n",
       "    }\n",
       "</style>\n",
       "<table border=\"1\" class=\"dataframe\">\n",
       "  <thead>\n",
       "    <tr style=\"text-align: right;\">\n",
       "      <th></th>\n",
       "      <th>name</th>\n",
       "      <th>platform</th>\n",
       "      <th>release_year</th>\n",
       "      <th>genre</th>\n",
       "      <th>publisher</th>\n",
       "      <th>na_sales</th>\n",
       "      <th>eu_sales</th>\n",
       "      <th>jp_sales</th>\n",
       "      <th>other_sales</th>\n",
       "      <th>global_sales</th>\n",
       "      <th>critic_score</th>\n",
       "      <th>critic_count</th>\n",
       "      <th>user_score</th>\n",
       "      <th>user_count</th>\n",
       "      <th>developer</th>\n",
       "      <th>rating</th>\n",
       "    </tr>\n",
       "  </thead>\n",
       "  <tbody>\n",
       "    <tr>\n",
       "      <th>0</th>\n",
       "      <td>Wii Sports</td>\n",
       "      <td>Wii</td>\n",
       "      <td>2006.0</td>\n",
       "      <td>Sports</td>\n",
       "      <td>Nintendo</td>\n",
       "      <td>41.36</td>\n",
       "      <td>28.96</td>\n",
       "      <td>3.77</td>\n",
       "      <td>8.45</td>\n",
       "      <td>82.53</td>\n",
       "      <td>76.0</td>\n",
       "      <td>51.0</td>\n",
       "      <td>8</td>\n",
       "      <td>322.0</td>\n",
       "      <td>Nintendo</td>\n",
       "      <td>E</td>\n",
       "    </tr>\n",
       "    <tr>\n",
       "      <th>1</th>\n",
       "      <td>Super Mario Bros.</td>\n",
       "      <td>NES</td>\n",
       "      <td>1985.0</td>\n",
       "      <td>Platform</td>\n",
       "      <td>Nintendo</td>\n",
       "      <td>29.08</td>\n",
       "      <td>3.58</td>\n",
       "      <td>6.81</td>\n",
       "      <td>0.77</td>\n",
       "      <td>40.24</td>\n",
       "      <td>NaN</td>\n",
       "      <td>NaN</td>\n",
       "      <td>NaN</td>\n",
       "      <td>NaN</td>\n",
       "      <td>NaN</td>\n",
       "      <td>NaN</td>\n",
       "    </tr>\n",
       "    <tr>\n",
       "      <th>2</th>\n",
       "      <td>Mario Kart Wii</td>\n",
       "      <td>Wii</td>\n",
       "      <td>2008.0</td>\n",
       "      <td>Racing</td>\n",
       "      <td>Nintendo</td>\n",
       "      <td>15.68</td>\n",
       "      <td>12.76</td>\n",
       "      <td>3.79</td>\n",
       "      <td>3.29</td>\n",
       "      <td>35.52</td>\n",
       "      <td>82.0</td>\n",
       "      <td>73.0</td>\n",
       "      <td>8.3</td>\n",
       "      <td>709.0</td>\n",
       "      <td>Nintendo</td>\n",
       "      <td>E</td>\n",
       "    </tr>\n",
       "  </tbody>\n",
       "</table>\n",
       "</div>"
      ],
      "text/plain": [
       "                name platform  release_year     genre publisher  na_sales  \\\n",
       "0         Wii Sports      Wii        2006.0    Sports  Nintendo     41.36   \n",
       "1  Super Mario Bros.      NES        1985.0  Platform  Nintendo     29.08   \n",
       "2     Mario Kart Wii      Wii        2008.0    Racing  Nintendo     15.68   \n",
       "\n",
       "   eu_sales  jp_sales  other_sales  global_sales  critic_score  critic_count  \\\n",
       "0     28.96      3.77         8.45         82.53          76.0          51.0   \n",
       "1      3.58      6.81         0.77         40.24           NaN           NaN   \n",
       "2     12.76      3.79         3.29         35.52          82.0          73.0   \n",
       "\n",
       "  user_score  user_count developer rating  \n",
       "0          8       322.0  Nintendo      E  \n",
       "1        NaN         NaN       NaN    NaN  \n",
       "2        8.3       709.0  Nintendo      E  "
      ]
     },
     "execution_count": 5,
     "metadata": {},
     "output_type": "execute_result"
    }
   ],
   "source": [
    "df.head(3)"
   ]
  },
  {
   "cell_type": "code",
   "execution_count": 6,
   "metadata": {},
   "outputs": [],
   "source": [
    "# Convert release_year from float to datetime\n",
    "# Source 1\n",
    "df['release_year'] = pd.to_datetime(df.release_year, format='%Y')"
   ]
  },
  {
   "cell_type": "markdown",
   "metadata": {},
   "source": [
    "### Should the floats be ints?\n",
    "\n",
    "For some reason, pandas imported all numeric columns as floats. Let's check to see if this was necessary in columns that should be ints\n",
    "\n",
    "columns to check:\n",
    "- user count\n",
    "- critic count\n",
    "- critic score"
   ]
  },
  {
   "cell_type": "code",
   "execution_count": 7,
   "metadata": {
    "jupyter": {
     "source_hidden": true
    }
   },
   "outputs": [
    {
     "name": "stdout",
     "output_type": "stream",
     "text": [
      "0    888\n",
      "Name: user_count, dtype: int64\n",
      "0    106\n",
      "Name: critic_count, dtype: int64\n",
      "0    82\n",
      "Name: critic_score, dtype: int64\n"
     ]
    }
   ],
   "source": [
    "# Check if anything would be lost if user count was converted to int\n",
    "print((df.user_count.value_counts() % 1).value_counts())\n",
    "\n",
    "# Check if anything would be lost if critic count was converted to int\n",
    "print((df.critic_count.value_counts() % 1).value_counts())\n",
    "\n",
    "# Check if anything would be lost if critic score was converted to int\n",
    "print((df.critic_score.value_counts() % 1).value_counts())"
   ]
  },
  {
   "cell_type": "markdown",
   "metadata": {},
   "source": [
    "Determined that all three columns should be converted to int.\n",
    "\n",
    "Source 2 informed me that pandas most likely converted the columns to floats because they contain null values. And ints don't like that, apparently"
   ]
  },
  {
   "cell_type": "code",
   "execution_count": 8,
   "metadata": {},
   "outputs": [],
   "source": [
    "# Source 2\n",
    "df.user_count = df.user_count.astype('Int64')\n",
    "df.critic_count = df.critic_count.astype('Int64')\n",
    "df.critic_score = df.critic_score.astype('Int64')"
   ]
  },
  {
   "cell_type": "markdown",
   "metadata": {},
   "source": [
    "### Investigate why user_score is an object instead of a numeric"
   ]
  },
  {
   "cell_type": "code",
   "execution_count": 9,
   "metadata": {},
   "outputs": [
    {
     "data": {
      "text/plain": [
       "tbd    2425\n",
       "7.8     324\n",
       "8       290\n",
       "8.2     282\n",
       "8.3     254\n",
       "       ... \n",
       "9.6       2\n",
       "1         2\n",
       "1.5       2\n",
       "9.7       1\n",
       "0         1\n",
       "Name: user_score, Length: 96, dtype: int64"
      ]
     },
     "execution_count": 9,
     "metadata": {},
     "output_type": "execute_result"
    }
   ],
   "source": [
    "df.user_score.value_counts()"
   ]
  },
  {
   "cell_type": "code",
   "execution_count": 10,
   "metadata": {
    "jupyter": {
     "source_hidden": true
    }
   },
   "outputs": [
    {
     "data": {
      "text/plain": [
       "7.8    324\n",
       "8.0    290\n",
       "8.2    282\n",
       "8.3    254\n",
       "8.5    253\n",
       "      ... \n",
       "9.6      2\n",
       "0.6      2\n",
       "1.9      2\n",
       "9.7      1\n",
       "0.0      1\n",
       "Name: user_score, Length: 95, dtype: int64"
      ]
     },
     "execution_count": 10,
     "metadata": {},
     "output_type": "execute_result"
    }
   ],
   "source": [
    "# Contrast regular value counts with the function that forces \n",
    "# non-numerics to nulls\n",
    "# Source 4\n",
    "pd.to_numeric(df.user_score, errors='coerce').value_counts()"
   ]
  },
  {
   "cell_type": "markdown",
   "metadata": {},
   "source": [
    "> Determine what to do with 'tbd'\n",
    "\n",
    "'tbd' stands for 'to be determined'. In other words, 'tbd' is a placeholder for later. We only have the data as it currently exists. Therefore, 'tbd' is effectively the same as 'null'.\n",
    "\n",
    "> Conclusion: \n",
    "\n",
    "Replace 'tbd' with 'null' in user_score"
   ]
  },
  {
   "cell_type": "code",
   "execution_count": 11,
   "metadata": {},
   "outputs": [],
   "source": [
    "df.user_score = pd.to_numeric(df.user_score, errors='coerce')"
   ]
  },
  {
   "cell_type": "markdown",
   "metadata": {},
   "source": [
    "## Save cleaned data into new datafile\n",
    "\n",
    "What about nulls?\n",
    "Decide to leave the nulls for now. They can be easily dropped if necessary when performing eda"
   ]
  },
  {
   "cell_type": "code",
   "execution_count": 12,
   "metadata": {},
   "outputs": [],
   "source": [
    "df.to_csv('./data/cleaned_video_game_sales.csv', index=False)"
   ]
  },
  {
   "cell_type": "markdown",
   "metadata": {},
   "source": [
    "## Sources\n",
    "\n",
    "1. https://stackoverflow.com/questions/46658232/pandas-convert-column-with-year-integer-to-datetime\n",
    "2. https://stackoverflow.com/questions/21287624/convert-pandas-column-containing-nans-to-dtype-int\n",
    "3. https://stackoverflow.com/questions/21771133/finding-non-numeric-rows-in-dataframe-in-pandas\n",
    "4. https://stackoverflow.com/questions/34794067/how-to-set-a-cell-to-nan-in-a-pandas-dataframe"
   ]
  }
 ],
 "metadata": {
  "kernelspec": {
   "display_name": "Python 3",
   "language": "python",
   "name": "python3"
  },
  "language_info": {
   "codemirror_mode": {
    "name": "ipython",
    "version": 3
   },
   "file_extension": ".py",
   "mimetype": "text/x-python",
   "name": "python",
   "nbconvert_exporter": "python",
   "pygments_lexer": "ipython3",
   "version": "3.8.3"
  }
 },
 "nbformat": 4,
 "nbformat_minor": 4
}
